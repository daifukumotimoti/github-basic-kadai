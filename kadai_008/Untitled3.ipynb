{
  "nbformat": 4,
  "nbformat_minor": 0,
  "metadata": {
    "colab": {
      "provenance": []
    },
    "kernelspec": {
      "name": "python3",
      "display_name": "Python 3"
    },
    "language_info": {
      "name": "python"
    }
  },
  "cells": [
    {
      "cell_type": "code",
      "execution_count": null,
      "metadata": {
        "colab": {
          "base_uri": "https://localhost:8080/"
        },
        "id": "b_L5Ana0OUUm",
        "outputId": "0dc93879-f8f4-4d37-849f-adfa7dc30c3b"
      },
      "outputs": [
        {
          "output_type": "stream",
          "name": "stdout",
          "text": [
            "63\n",
            "True\n"
          ]
        }
      ],
      "source": [
        "print(45 + 18)\n",
        "print(45 > 18)"
      ]
    },
    {
      "cell_type": "code",
      "source": [
        "print(\"5\" == 5)\n"
      ],
      "metadata": {
        "colab": {
          "base_uri": "https://localhost:8080/"
        },
        "id": "Qi6Tjm5DPJRH",
        "outputId": "5b2c4c8e-840d-4f06-bfc9-4c1e067269af"
      },
      "execution_count": null,
      "outputs": [
        {
          "output_type": "stream",
          "name": "stdout",
          "text": [
            "False\n"
          ]
        }
      ]
    },
    {
      "cell_type": "code",
      "source": [
        "import random\n",
        "\n",
        "num = random.randint(0, 4)\n",
        "\n",
        "print(num)\n",
        "\n",
        "if num == 4:\n",
        "  print(\"大当たりです\")\n"
      ],
      "metadata": {
        "colab": {
          "base_uri": "https://localhost:8080/"
        },
        "id": "s_1JUmnsPge8",
        "outputId": "3970a2f1-85ed-4539-d10e-05aef7677d24"
      },
      "execution_count": null,
      "outputs": [
        {
          "output_type": "stream",
          "name": "stdout",
          "text": [
            "4\n",
            "大当たりです\n"
          ]
        }
      ]
    },
    {
      "cell_type": "code",
      "source": [
        "import random\n",
        "\n",
        "num = random.randint(0, 4)\n",
        "\n",
        "print(num)\n",
        "\n",
        "if 1 < num and num < 3:\n",
        "  print(\"変数numは1より大きく、3より小さいです\")\n",
        "else:\n",
        "  print(\"and条件が成り立ちませんでした\")\n",
        "\n",
        "if num == 1 or num == 3:\n",
        "  print(\"変数numは1または3です\")\n",
        "else:\n",
        "  print(\"or条件が成り立ちませんでした\")\n"
      ],
      "metadata": {
        "colab": {
          "base_uri": "https://localhost:8080/"
        },
        "id": "8d-92w_kP6IU",
        "outputId": "196002db-0354-45cc-8961-464c4443b98b"
      },
      "execution_count": null,
      "outputs": [
        {
          "output_type": "stream",
          "name": "stdout",
          "text": [
            "2\n",
            "変数numは1より大きく、3より小さいです\n",
            "or条件が成り立ちませんでした\n"
          ]
        }
      ]
    },
    {
      "cell_type": "code",
      "source": [
        "import random\n",
        "\n",
        "var = random.randint(0, 100)\n",
        "\n",
        "print(var)\n",
        "\n",
        "if var%3 ==0 and var%5 == 0:\n",
        "  print(\"FizzBuzz\")\n",
        "elif var%3 == 0:\n",
        "  print(\"Fizz\")\n",
        "elif var%5 == 0:\n",
        "  print(\"Buzz\")\n",
        "else:\n",
        "  print(var)\n",
        "\n",
        "\n",
        "\n",
        "\n",
        "\n"
      ],
      "metadata": {
        "colab": {
          "base_uri": "https://localhost:8080/"
        },
        "id": "3odHIJWvSeau",
        "outputId": "df3b82af-eccb-42ae-83d0-413b3daffbd8"
      },
      "execution_count": 60,
      "outputs": [
        {
          "output_type": "stream",
          "name": "stdout",
          "text": [
            "0\n",
            "FizzBuzz\n"
          ]
        }
      ]
    }
  ]
}